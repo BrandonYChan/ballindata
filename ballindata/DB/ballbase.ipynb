{
 "cells": [
  {
   "cell_type": "code",
   "execution_count": 7,
   "metadata": {},
   "outputs": [],
   "source": [
    "import pandas as pd, numpy as np \n",
    "import sqlalchemy \n",
    "import os, sys \n",
    "sys.path.append(os.path.abspath(os.path.join(os.path.dirname('functions.py'), '..', 'PY')))\n",
    "import functions  \n",
    "\n",
    "seasons = functions.generate_seasons(1975, 2024) \n"
   ]
  },
  {
   "cell_type": "markdown",
   "metadata": {},
   "source": [
    "## Drop Tables "
   ]
  },
  {
   "cell_type": "code",
   "execution_count": 41,
   "metadata": {},
   "outputs": [
    {
     "name": "stdout",
     "output_type": "stream",
     "text": [
      "drop table totals_2016_17;drop table totals_2017_18;drop table totals_2018_19;drop table totals_2019_20;drop table totals_2020_21;drop table totals_2021_22;drop table totals_2022_23;drop table totals_2023_24;"
     ]
    }
   ],
   "source": [
    "seasons = functions.generate_seasons(2016, 2024) \n",
    "for season in seasons:\n",
    "    print(f'drop table totals_{season};', end='')\n"
   ]
  }
 ],
 "metadata": {
  "kernelspec": {
   "display_name": "Python 3",
   "language": "python",
   "name": "python3"
  },
  "language_info": {
   "codemirror_mode": {
    "name": "ipython",
    "version": 3
   },
   "file_extension": ".py",
   "mimetype": "text/x-python",
   "name": "python",
   "nbconvert_exporter": "python",
   "pygments_lexer": "ipython3",
   "version": "3.11.9"
  }
 },
 "nbformat": 4,
 "nbformat_minor": 2
}
