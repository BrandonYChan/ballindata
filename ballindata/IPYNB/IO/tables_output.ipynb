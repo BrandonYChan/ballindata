{
 "cells": [
  {
   "cell_type": "markdown",
   "metadata": {},
   "source": [
    "# Imports "
   ]
  },
  {
   "cell_type": "code",
   "execution_count": 2,
   "metadata": {},
   "outputs": [],
   "source": [
    "import numpy as np, pandas as pd \n",
    "pd.set_option('display.max_columns', None)\n",
    "import sqlalchemy, sys, os  \n",
    "\n",
    "sys.path.append(os.path.abspath(os.path.join(os.path.dirname('functions.py'), '..', '..', 'PY')))\n",
    "import functions  \n",
    "\n",
    "seasons = functions.generate_seasons(1979, 2024)"
   ]
  },
  {
   "cell_type": "markdown",
   "metadata": {},
   "source": [
    "# Output Tables (Multiple Seasons) "
   ]
  },
  {
   "cell_type": "code",
   "execution_count": 4,
   "metadata": {},
   "outputs": [],
   "source": [
    "engine = sqlalchemy.create_engine(\"sqlite:///../../DB/ballbase.db\") \n",
    "for season in seasons:\n",
    "    season_str = season \n",
    "    master = pd.read_sql(\"master_\"+season, con=engine).fillna(0) \n",
    "    if '3P' in master.columns: \n",
    "        averages = master[['Player', 'Pos', 'Tm', 'Age', 'PPG', 'RPG', 'APG', 'SPG', 'BPG', 'ToPG', 'MPG', 'FGA', 'FG%', '3P', '3PA', '3P%', '2P%', 'FTA', 'FT%', 'PF']] \n",
    "        totals = master.loc[:, ['Player', 'TPTS', 'TSTL',\n",
    "            'TTOV', 'TTRB', 'T2P', 'T2PA', 'T3P', 'T3PA', 'TAST', 'TBLK', 'TDRB',\n",
    "            'TFG', 'TFGA', 'TFT', 'TFTA', 'TMP', 'TORB', 'TPF']]\n",
    "        advanced = master.loc[:, ['Player', 'DRtg', 'ORtg',\n",
    "            '3PAr', 'AST%', 'BLK%', 'BPM', 'DBPM', 'DRB%', 'DWS', 'FTr', 'OBPM',\n",
    "            'ORB%', 'OWS', 'PER', 'STL%', 'TOV%', 'TRB%', 'TS%', 'eFG%', 'USG%', 'VORP',\n",
    "            'WS', 'WS/48']] \n",
    "    else: \n",
    "        averages = master[['Player', 'Pos', 'Age', 'PTS', 'TRB', 'AST', 'STL', 'BLK', 'TOV', 'MP', 'FGA', 'FG%', '2P%', 'FTA', 'FT%', 'PF']] \n",
    "        totals = master.loc[:, ['Player', 'TPTS', 'TSTL',\n",
    "            'TTOV', 'TTRB', 'T2P', 'T2PA', 'TAST', 'TBLK', 'TDRB',\n",
    "            'TFG', 'TFGA', 'TFT', 'TFTA', 'TMP', 'TORB', 'TPF']]\n",
    "        advanced = master.loc[:, ['Player', 'DRtg', 'ORtg', 'AST%', 'BLK%', 'BPM', 'DBPM', 'DRB%', 'DWS', 'FTr', 'OBPM',\n",
    "            'ORB%', 'OWS', 'PER', 'STL%', 'TOV%', 'TRB%', 'TS%', 'eFG%', 'USG%', 'VORP',\n",
    "            'WS', 'WS/48']] \n",
    "\n",
    "\n",
    "    contents = [averages, totals, advanced] \n",
    "    # Create HTML table version \n",
    "    for i in range(len(contents)):\n",
    "        contents[i] = contents[i].to_html(table_id=\"table\", classes = \"table table-hover table-stripped table-bordered table-striped\", border=1, index=False)\n",
    "        contents[i] = contents[i].replace('<table border=\"1\" class=\"dataframe table table-hover table-stripped table-bordered table-striped\" id=\"table\">', '<table border=\"1\" class=\"dataframe table table-hover table-stripped table-bordered\" style=\"width:100%\" id=\"table\">')\n",
    "    # Create page content \n",
    "    for i in range(len(contents)):\n",
    "        contents[i] = f\"\"\"\n",
    "{{%extends 'TableBase.html'%}}\n",
    "{{% block table %}} \n",
    "\n",
    "{contents[i]}\n",
    "{{% endblock %}}\n",
    "\"\"\"\n",
    "    def write_to_file(path, content): \n",
    "        file = open(path, \"w\", encoding=\"utf-8\") \n",
    "        file.write(content) \n",
    "        file.close \n",
    "\n",
    "\n",
    "    file_names=[f\"Averages_{season}.html\", f\"Totals_{season}.html\", f\"Advanced_{season}.html\"] \n",
    "\n",
    "    for i in range(len(contents)): \n",
    "        path = f\"../../templates/Tables/{file_names[i]}\" \n",
    "        write_to_file(path, contents[i]) "
   ]
  },
  {
   "cell_type": "markdown",
   "metadata": {},
   "source": [
    "# Output Season Buttons "
   ]
  },
  {
   "cell_type": "code",
   "execution_count": 15,
   "metadata": {},
   "outputs": [
    {
     "name": "stdout",
     "output_type": "stream",
     "text": [
      "<button onclick=\"seasonSelect('2023_24')\" class=\"dropdown-button\"> 2023-24 </button>\n",
      "<button onclick=\"seasonSelect('2022_23')\" class=\"dropdown-button\"> 2022-23 </button>\n",
      "<button onclick=\"seasonSelect('2021_22')\" class=\"dropdown-button\"> 2021-22 </button>\n",
      "<button onclick=\"seasonSelect('2020_21')\" class=\"dropdown-button\"> 2020-21 </button>\n",
      "<button onclick=\"seasonSelect('2019_20')\" class=\"dropdown-button\"> 2019-20 </button>\n",
      "<button onclick=\"seasonSelect('2018_19')\" class=\"dropdown-button\"> 2018-19 </button>\n",
      "<button onclick=\"seasonSelect('2017_18')\" class=\"dropdown-button\"> 2017-18 </button>\n",
      "<button onclick=\"seasonSelect('2016_17')\" class=\"dropdown-button\"> 2016-17 </button>\n",
      "<button onclick=\"seasonSelect('2015_16')\" class=\"dropdown-button\"> 2015-16 </button>\n",
      "<button onclick=\"seasonSelect('2014_15')\" class=\"dropdown-button\"> 2014-15 </button>\n",
      "<button onclick=\"seasonSelect('2013_14')\" class=\"dropdown-button\"> 2013-14 </button>\n",
      "<button onclick=\"seasonSelect('2012_13')\" class=\"dropdown-button\"> 2012-13 </button>\n",
      "<button onclick=\"seasonSelect('2011_12')\" class=\"dropdown-button\"> 2011-12 </button>\n",
      "<button onclick=\"seasonSelect('2010_11')\" class=\"dropdown-button\"> 2010-11 </button>\n",
      "<button onclick=\"seasonSelect('2009_10')\" class=\"dropdown-button\"> 2009-10 </button>\n",
      "<button onclick=\"seasonSelect('2008_09')\" class=\"dropdown-button\"> 2008-09 </button>\n",
      "<button onclick=\"seasonSelect('2007_08')\" class=\"dropdown-button\"> 2007-08 </button>\n",
      "<button onclick=\"seasonSelect('2006_07')\" class=\"dropdown-button\"> 2006-07 </button>\n",
      "<button onclick=\"seasonSelect('2005_06')\" class=\"dropdown-button\"> 2005-06 </button>\n",
      "<button onclick=\"seasonSelect('2004_05')\" class=\"dropdown-button\"> 2004-05 </button>\n",
      "<button onclick=\"seasonSelect('2003_04')\" class=\"dropdown-button\"> 2003-04 </button>\n",
      "<button onclick=\"seasonSelect('2002_03')\" class=\"dropdown-button\"> 2002-03 </button>\n",
      "<button onclick=\"seasonSelect('2001_02')\" class=\"dropdown-button\"> 2001-02 </button>\n",
      "<button onclick=\"seasonSelect('2000_01')\" class=\"dropdown-button\"> 2000-01 </button>\n",
      "<button onclick=\"seasonSelect('1999_00')\" class=\"dropdown-button\"> 1999-00 </button>\n",
      "<button onclick=\"seasonSelect('1998_99')\" class=\"dropdown-button\"> 1998-99 </button>\n",
      "<button onclick=\"seasonSelect('1997_98')\" class=\"dropdown-button\"> 1997-98 </button>\n",
      "<button onclick=\"seasonSelect('1996_97')\" class=\"dropdown-button\"> 1996-97 </button>\n",
      "<button onclick=\"seasonSelect('1995_96')\" class=\"dropdown-button\"> 1995-96 </button>\n",
      "<button onclick=\"seasonSelect('1994_95')\" class=\"dropdown-button\"> 1994-95 </button>\n",
      "<button onclick=\"seasonSelect('1993_94')\" class=\"dropdown-button\"> 1993-94 </button>\n",
      "<button onclick=\"seasonSelect('1992_93')\" class=\"dropdown-button\"> 1992-93 </button>\n",
      "<button onclick=\"seasonSelect('1991_92')\" class=\"dropdown-button\"> 1991-92 </button>\n",
      "<button onclick=\"seasonSelect('1990_91')\" class=\"dropdown-button\"> 1990-91 </button>\n",
      "<button onclick=\"seasonSelect('1989_90')\" class=\"dropdown-button\"> 1989-90 </button>\n",
      "<button onclick=\"seasonSelect('1988_89')\" class=\"dropdown-button\"> 1988-89 </button>\n",
      "<button onclick=\"seasonSelect('1987_88')\" class=\"dropdown-button\"> 1987-88 </button>\n",
      "<button onclick=\"seasonSelect('1986_87')\" class=\"dropdown-button\"> 1986-87 </button>\n",
      "<button onclick=\"seasonSelect('1985_86')\" class=\"dropdown-button\"> 1985-86 </button>\n",
      "<button onclick=\"seasonSelect('1984_85')\" class=\"dropdown-button\"> 1984-85 </button>\n",
      "<button onclick=\"seasonSelect('1983_84')\" class=\"dropdown-button\"> 1983-84 </button>\n",
      "<button onclick=\"seasonSelect('1982_83')\" class=\"dropdown-button\"> 1982-83 </button>\n",
      "<button onclick=\"seasonSelect('1981_82')\" class=\"dropdown-button\"> 1981-82 </button>\n",
      "<button onclick=\"seasonSelect('1980_81')\" class=\"dropdown-button\"> 1980-81 </button>\n",
      "<button onclick=\"seasonSelect('1979_80')\" class=\"dropdown-button\"> 1979-80 </button>\n",
      "<button onclick=\"seasonSelect('1978_79')\" class=\"dropdown-button\"> 1978-79 </button>\n",
      "<button onclick=\"seasonSelect('1977_78')\" class=\"dropdown-button\"> 1977-78 </button>\n",
      "<button onclick=\"seasonSelect('1976_77')\" class=\"dropdown-button\"> 1976-77 </button>\n",
      "<button onclick=\"seasonSelect('1975_76')\" class=\"dropdown-button\"> 1975-76 </button>\n",
      "<button onclick=\"seasonSelect('1974_75')\" class=\"dropdown-button\"> 1974-75 </button>\n",
      "<button onclick=\"seasonSelect('1973_74')\" class=\"dropdown-button\"> 1973-74 </button>\n"
     ]
    }
   ],
   "source": [
    "season_labs = functions.generate_seasons(1973, 2024)  \n",
    "temp = []\n",
    "\n",
    "season_button_content = \"\"\n",
    "for season in season_labs: \n",
    "    ssn_str = season.replace('_', '-') \n",
    "    season_button_content += f'<button onclick=\"seasonSelect(\\'{season}\\')\" class=\"dropdown-button\"> {ssn_str} </button>' + '\\n'  \n",
    "    temp.append(f'<button onclick=\"seasonSelect(\\'{season}\\')\" class=\"dropdown-button\"> {ssn_str} </button>') \n",
    "for i in range(len(temp)-1, -1, -1):\n",
    "    print(temp[i]) \n",
    "# file_b = open(\"../../templates/Other/Season-buttons.html\", \"w\", encoding=\"utf-8\") \n",
    "# file_b.write(season_button_content) \n",
    "# file_b.close()  \n",
    "# print(season_button_content)"
   ]
  }
 ],
 "metadata": {
  "kernelspec": {
   "display_name": "Python 3",
   "language": "python",
   "name": "python3"
  },
  "language_info": {
   "codemirror_mode": {
    "name": "ipython",
    "version": 3
   },
   "file_extension": ".py",
   "mimetype": "text/x-python",
   "name": "python",
   "nbconvert_exporter": "python",
   "pygments_lexer": "ipython3",
   "version": "3.11.9"
  }
 },
 "nbformat": 4,
 "nbformat_minor": 2
}
