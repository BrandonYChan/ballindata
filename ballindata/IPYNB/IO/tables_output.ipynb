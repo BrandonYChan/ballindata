{
 "cells": [
  {
   "cell_type": "markdown",
   "metadata": {},
   "source": [
    "# Imports "
   ]
  },
  {
   "cell_type": "code",
   "execution_count": 1,
   "metadata": {},
   "outputs": [],
   "source": [
    "import numpy as np, pandas as pd \n",
    "pd.set_option('display.max_columns', None)\n",
    "import sqlite3, sqlalchemy, sys, os  \n",
    "\n",
    "sys.path.append(os.path.abspath(os.path.join(os.path.dirname('functions.py'), '..', '..', 'PY')))\n",
    "import functions  \n",
    "\n",
    "seasons = functions.generate_seasons(1973, 2024)\n",
    "# seasons = functions.generate_seasons(2007, 2024)"
   ]
  },
  {
   "cell_type": "markdown",
   "metadata": {},
   "source": [
    "# Convert CSVs to Dataframes "
   ]
  },
  {
   "cell_type": "code",
   "execution_count": 2,
   "metadata": {},
   "outputs": [
    {
     "ename": "FileNotFoundError",
     "evalue": "[Errno 2] No such file or directory: '../../static/CSV/1973_74/pergame_1973_74.csv'",
     "output_type": "error",
     "traceback": [
      "\u001b[1;31m---------------------------------------------------------------------------\u001b[0m",
      "\u001b[1;31mFileNotFoundError\u001b[0m                         Traceback (most recent call last)",
      "Cell \u001b[1;32mIn[2], line 15\u001b[0m\n\u001b[0;32m     12\u001b[0m invalid \u001b[38;5;241m=\u001b[39m [\u001b[38;5;124m'\u001b[39m\u001b[38;5;124m-9999\u001b[39m\u001b[38;5;124m'\u001b[39m, \u001b[38;5;124m'\u001b[39m\u001b[38;5;124mUnnamed\u001b[39m\u001b[38;5;124m'\u001b[39m, \u001b[38;5;124m'\u001b[39m\u001b[38;5;124mRk\u001b[39m\u001b[38;5;124m'\u001b[39m, \u001b[38;5;124m'\u001b[39m\u001b[38;5;124mPlayer-additional\u001b[39m\u001b[38;5;124m'\u001b[39m]\n\u001b[0;32m     14\u001b[0m \u001b[38;5;28;01mfor\u001b[39;00m name \u001b[38;5;129;01min\u001b[39;00m names:\n\u001b[1;32m---> 15\u001b[0m     dfs[name] \u001b[38;5;241m=\u001b[39m \u001b[43mpd\u001b[49m\u001b[38;5;241;43m.\u001b[39;49m\u001b[43mread_csv\u001b[49m\u001b[43m(\u001b[49m\u001b[38;5;28;43mdir\u001b[39;49m\u001b[38;5;241;43m+\u001b[39;49m\u001b[43mname\u001b[49m\u001b[38;5;241;43m+\u001b[39;49m\u001b[38;5;124;43m'\u001b[39;49m\u001b[38;5;124;43m.csv\u001b[39;49m\u001b[38;5;124;43m'\u001b[39;49m\u001b[43m)\u001b[49m \n\u001b[0;32m     16\u001b[0m     \u001b[38;5;28;01mfor\u001b[39;00m inv \u001b[38;5;129;01min\u001b[39;00m invalid:\n\u001b[0;32m     17\u001b[0m         \u001b[38;5;28;01mfor\u001b[39;00m col \u001b[38;5;129;01min\u001b[39;00m dfs[name]\u001b[38;5;241m.\u001b[39mcolumns:\n",
      "File \u001b[1;32m~\\AppData\\Local\\Packages\\PythonSoftwareFoundation.Python.3.12_qbz5n2kfra8p0\\LocalCache\\local-packages\\Python312\\site-packages\\pandas\\io\\parsers\\readers.py:1026\u001b[0m, in \u001b[0;36mread_csv\u001b[1;34m(filepath_or_buffer, sep, delimiter, header, names, index_col, usecols, dtype, engine, converters, true_values, false_values, skipinitialspace, skiprows, skipfooter, nrows, na_values, keep_default_na, na_filter, verbose, skip_blank_lines, parse_dates, infer_datetime_format, keep_date_col, date_parser, date_format, dayfirst, cache_dates, iterator, chunksize, compression, thousands, decimal, lineterminator, quotechar, quoting, doublequote, escapechar, comment, encoding, encoding_errors, dialect, on_bad_lines, delim_whitespace, low_memory, memory_map, float_precision, storage_options, dtype_backend)\u001b[0m\n\u001b[0;32m   1013\u001b[0m kwds_defaults \u001b[38;5;241m=\u001b[39m _refine_defaults_read(\n\u001b[0;32m   1014\u001b[0m     dialect,\n\u001b[0;32m   1015\u001b[0m     delimiter,\n\u001b[1;32m   (...)\u001b[0m\n\u001b[0;32m   1022\u001b[0m     dtype_backend\u001b[38;5;241m=\u001b[39mdtype_backend,\n\u001b[0;32m   1023\u001b[0m )\n\u001b[0;32m   1024\u001b[0m kwds\u001b[38;5;241m.\u001b[39mupdate(kwds_defaults)\n\u001b[1;32m-> 1026\u001b[0m \u001b[38;5;28;01mreturn\u001b[39;00m \u001b[43m_read\u001b[49m\u001b[43m(\u001b[49m\u001b[43mfilepath_or_buffer\u001b[49m\u001b[43m,\u001b[49m\u001b[43m \u001b[49m\u001b[43mkwds\u001b[49m\u001b[43m)\u001b[49m\n",
      "File \u001b[1;32m~\\AppData\\Local\\Packages\\PythonSoftwareFoundation.Python.3.12_qbz5n2kfra8p0\\LocalCache\\local-packages\\Python312\\site-packages\\pandas\\io\\parsers\\readers.py:620\u001b[0m, in \u001b[0;36m_read\u001b[1;34m(filepath_or_buffer, kwds)\u001b[0m\n\u001b[0;32m    617\u001b[0m _validate_names(kwds\u001b[38;5;241m.\u001b[39mget(\u001b[38;5;124m\"\u001b[39m\u001b[38;5;124mnames\u001b[39m\u001b[38;5;124m\"\u001b[39m, \u001b[38;5;28;01mNone\u001b[39;00m))\n\u001b[0;32m    619\u001b[0m \u001b[38;5;66;03m# Create the parser.\u001b[39;00m\n\u001b[1;32m--> 620\u001b[0m parser \u001b[38;5;241m=\u001b[39m \u001b[43mTextFileReader\u001b[49m\u001b[43m(\u001b[49m\u001b[43mfilepath_or_buffer\u001b[49m\u001b[43m,\u001b[49m\u001b[43m \u001b[49m\u001b[38;5;241;43m*\u001b[39;49m\u001b[38;5;241;43m*\u001b[39;49m\u001b[43mkwds\u001b[49m\u001b[43m)\u001b[49m\n\u001b[0;32m    622\u001b[0m \u001b[38;5;28;01mif\u001b[39;00m chunksize \u001b[38;5;129;01mor\u001b[39;00m iterator:\n\u001b[0;32m    623\u001b[0m     \u001b[38;5;28;01mreturn\u001b[39;00m parser\n",
      "File \u001b[1;32m~\\AppData\\Local\\Packages\\PythonSoftwareFoundation.Python.3.12_qbz5n2kfra8p0\\LocalCache\\local-packages\\Python312\\site-packages\\pandas\\io\\parsers\\readers.py:1620\u001b[0m, in \u001b[0;36mTextFileReader.__init__\u001b[1;34m(self, f, engine, **kwds)\u001b[0m\n\u001b[0;32m   1617\u001b[0m     \u001b[38;5;28mself\u001b[39m\u001b[38;5;241m.\u001b[39moptions[\u001b[38;5;124m\"\u001b[39m\u001b[38;5;124mhas_index_names\u001b[39m\u001b[38;5;124m\"\u001b[39m] \u001b[38;5;241m=\u001b[39m kwds[\u001b[38;5;124m\"\u001b[39m\u001b[38;5;124mhas_index_names\u001b[39m\u001b[38;5;124m\"\u001b[39m]\n\u001b[0;32m   1619\u001b[0m \u001b[38;5;28mself\u001b[39m\u001b[38;5;241m.\u001b[39mhandles: IOHandles \u001b[38;5;241m|\u001b[39m \u001b[38;5;28;01mNone\u001b[39;00m \u001b[38;5;241m=\u001b[39m \u001b[38;5;28;01mNone\u001b[39;00m\n\u001b[1;32m-> 1620\u001b[0m \u001b[38;5;28mself\u001b[39m\u001b[38;5;241m.\u001b[39m_engine \u001b[38;5;241m=\u001b[39m \u001b[38;5;28;43mself\u001b[39;49m\u001b[38;5;241;43m.\u001b[39;49m\u001b[43m_make_engine\u001b[49m\u001b[43m(\u001b[49m\u001b[43mf\u001b[49m\u001b[43m,\u001b[49m\u001b[43m \u001b[49m\u001b[38;5;28;43mself\u001b[39;49m\u001b[38;5;241;43m.\u001b[39;49m\u001b[43mengine\u001b[49m\u001b[43m)\u001b[49m\n",
      "File \u001b[1;32m~\\AppData\\Local\\Packages\\PythonSoftwareFoundation.Python.3.12_qbz5n2kfra8p0\\LocalCache\\local-packages\\Python312\\site-packages\\pandas\\io\\parsers\\readers.py:1880\u001b[0m, in \u001b[0;36mTextFileReader._make_engine\u001b[1;34m(self, f, engine)\u001b[0m\n\u001b[0;32m   1878\u001b[0m     \u001b[38;5;28;01mif\u001b[39;00m \u001b[38;5;124m\"\u001b[39m\u001b[38;5;124mb\u001b[39m\u001b[38;5;124m\"\u001b[39m \u001b[38;5;129;01mnot\u001b[39;00m \u001b[38;5;129;01min\u001b[39;00m mode:\n\u001b[0;32m   1879\u001b[0m         mode \u001b[38;5;241m+\u001b[39m\u001b[38;5;241m=\u001b[39m \u001b[38;5;124m\"\u001b[39m\u001b[38;5;124mb\u001b[39m\u001b[38;5;124m\"\u001b[39m\n\u001b[1;32m-> 1880\u001b[0m \u001b[38;5;28mself\u001b[39m\u001b[38;5;241m.\u001b[39mhandles \u001b[38;5;241m=\u001b[39m \u001b[43mget_handle\u001b[49m\u001b[43m(\u001b[49m\n\u001b[0;32m   1881\u001b[0m \u001b[43m    \u001b[49m\u001b[43mf\u001b[49m\u001b[43m,\u001b[49m\n\u001b[0;32m   1882\u001b[0m \u001b[43m    \u001b[49m\u001b[43mmode\u001b[49m\u001b[43m,\u001b[49m\n\u001b[0;32m   1883\u001b[0m \u001b[43m    \u001b[49m\u001b[43mencoding\u001b[49m\u001b[38;5;241;43m=\u001b[39;49m\u001b[38;5;28;43mself\u001b[39;49m\u001b[38;5;241;43m.\u001b[39;49m\u001b[43moptions\u001b[49m\u001b[38;5;241;43m.\u001b[39;49m\u001b[43mget\u001b[49m\u001b[43m(\u001b[49m\u001b[38;5;124;43m\"\u001b[39;49m\u001b[38;5;124;43mencoding\u001b[39;49m\u001b[38;5;124;43m\"\u001b[39;49m\u001b[43m,\u001b[49m\u001b[43m \u001b[49m\u001b[38;5;28;43;01mNone\u001b[39;49;00m\u001b[43m)\u001b[49m\u001b[43m,\u001b[49m\n\u001b[0;32m   1884\u001b[0m \u001b[43m    \u001b[49m\u001b[43mcompression\u001b[49m\u001b[38;5;241;43m=\u001b[39;49m\u001b[38;5;28;43mself\u001b[39;49m\u001b[38;5;241;43m.\u001b[39;49m\u001b[43moptions\u001b[49m\u001b[38;5;241;43m.\u001b[39;49m\u001b[43mget\u001b[49m\u001b[43m(\u001b[49m\u001b[38;5;124;43m\"\u001b[39;49m\u001b[38;5;124;43mcompression\u001b[39;49m\u001b[38;5;124;43m\"\u001b[39;49m\u001b[43m,\u001b[49m\u001b[43m \u001b[49m\u001b[38;5;28;43;01mNone\u001b[39;49;00m\u001b[43m)\u001b[49m\u001b[43m,\u001b[49m\n\u001b[0;32m   1885\u001b[0m \u001b[43m    \u001b[49m\u001b[43mmemory_map\u001b[49m\u001b[38;5;241;43m=\u001b[39;49m\u001b[38;5;28;43mself\u001b[39;49m\u001b[38;5;241;43m.\u001b[39;49m\u001b[43moptions\u001b[49m\u001b[38;5;241;43m.\u001b[39;49m\u001b[43mget\u001b[49m\u001b[43m(\u001b[49m\u001b[38;5;124;43m\"\u001b[39;49m\u001b[38;5;124;43mmemory_map\u001b[39;49m\u001b[38;5;124;43m\"\u001b[39;49m\u001b[43m,\u001b[49m\u001b[43m \u001b[49m\u001b[38;5;28;43;01mFalse\u001b[39;49;00m\u001b[43m)\u001b[49m\u001b[43m,\u001b[49m\n\u001b[0;32m   1886\u001b[0m \u001b[43m    \u001b[49m\u001b[43mis_text\u001b[49m\u001b[38;5;241;43m=\u001b[39;49m\u001b[43mis_text\u001b[49m\u001b[43m,\u001b[49m\n\u001b[0;32m   1887\u001b[0m \u001b[43m    \u001b[49m\u001b[43merrors\u001b[49m\u001b[38;5;241;43m=\u001b[39;49m\u001b[38;5;28;43mself\u001b[39;49m\u001b[38;5;241;43m.\u001b[39;49m\u001b[43moptions\u001b[49m\u001b[38;5;241;43m.\u001b[39;49m\u001b[43mget\u001b[49m\u001b[43m(\u001b[49m\u001b[38;5;124;43m\"\u001b[39;49m\u001b[38;5;124;43mencoding_errors\u001b[39;49m\u001b[38;5;124;43m\"\u001b[39;49m\u001b[43m,\u001b[49m\u001b[43m \u001b[49m\u001b[38;5;124;43m\"\u001b[39;49m\u001b[38;5;124;43mstrict\u001b[39;49m\u001b[38;5;124;43m\"\u001b[39;49m\u001b[43m)\u001b[49m\u001b[43m,\u001b[49m\n\u001b[0;32m   1888\u001b[0m \u001b[43m    \u001b[49m\u001b[43mstorage_options\u001b[49m\u001b[38;5;241;43m=\u001b[39;49m\u001b[38;5;28;43mself\u001b[39;49m\u001b[38;5;241;43m.\u001b[39;49m\u001b[43moptions\u001b[49m\u001b[38;5;241;43m.\u001b[39;49m\u001b[43mget\u001b[49m\u001b[43m(\u001b[49m\u001b[38;5;124;43m\"\u001b[39;49m\u001b[38;5;124;43mstorage_options\u001b[39;49m\u001b[38;5;124;43m\"\u001b[39;49m\u001b[43m,\u001b[49m\u001b[43m \u001b[49m\u001b[38;5;28;43;01mNone\u001b[39;49;00m\u001b[43m)\u001b[49m\u001b[43m,\u001b[49m\n\u001b[0;32m   1889\u001b[0m \u001b[43m\u001b[49m\u001b[43m)\u001b[49m\n\u001b[0;32m   1890\u001b[0m \u001b[38;5;28;01massert\u001b[39;00m \u001b[38;5;28mself\u001b[39m\u001b[38;5;241m.\u001b[39mhandles \u001b[38;5;129;01mis\u001b[39;00m \u001b[38;5;129;01mnot\u001b[39;00m \u001b[38;5;28;01mNone\u001b[39;00m\n\u001b[0;32m   1891\u001b[0m f \u001b[38;5;241m=\u001b[39m \u001b[38;5;28mself\u001b[39m\u001b[38;5;241m.\u001b[39mhandles\u001b[38;5;241m.\u001b[39mhandle\n",
      "File \u001b[1;32m~\\AppData\\Local\\Packages\\PythonSoftwareFoundation.Python.3.12_qbz5n2kfra8p0\\LocalCache\\local-packages\\Python312\\site-packages\\pandas\\io\\common.py:873\u001b[0m, in \u001b[0;36mget_handle\u001b[1;34m(path_or_buf, mode, encoding, compression, memory_map, is_text, errors, storage_options)\u001b[0m\n\u001b[0;32m    868\u001b[0m \u001b[38;5;28;01melif\u001b[39;00m \u001b[38;5;28misinstance\u001b[39m(handle, \u001b[38;5;28mstr\u001b[39m):\n\u001b[0;32m    869\u001b[0m     \u001b[38;5;66;03m# Check whether the filename is to be opened in binary mode.\u001b[39;00m\n\u001b[0;32m    870\u001b[0m     \u001b[38;5;66;03m# Binary mode does not support 'encoding' and 'newline'.\u001b[39;00m\n\u001b[0;32m    871\u001b[0m     \u001b[38;5;28;01mif\u001b[39;00m ioargs\u001b[38;5;241m.\u001b[39mencoding \u001b[38;5;129;01mand\u001b[39;00m \u001b[38;5;124m\"\u001b[39m\u001b[38;5;124mb\u001b[39m\u001b[38;5;124m\"\u001b[39m \u001b[38;5;129;01mnot\u001b[39;00m \u001b[38;5;129;01min\u001b[39;00m ioargs\u001b[38;5;241m.\u001b[39mmode:\n\u001b[0;32m    872\u001b[0m         \u001b[38;5;66;03m# Encoding\u001b[39;00m\n\u001b[1;32m--> 873\u001b[0m         handle \u001b[38;5;241m=\u001b[39m \u001b[38;5;28;43mopen\u001b[39;49m\u001b[43m(\u001b[49m\n\u001b[0;32m    874\u001b[0m \u001b[43m            \u001b[49m\u001b[43mhandle\u001b[49m\u001b[43m,\u001b[49m\n\u001b[0;32m    875\u001b[0m \u001b[43m            \u001b[49m\u001b[43mioargs\u001b[49m\u001b[38;5;241;43m.\u001b[39;49m\u001b[43mmode\u001b[49m\u001b[43m,\u001b[49m\n\u001b[0;32m    876\u001b[0m \u001b[43m            \u001b[49m\u001b[43mencoding\u001b[49m\u001b[38;5;241;43m=\u001b[39;49m\u001b[43mioargs\u001b[49m\u001b[38;5;241;43m.\u001b[39;49m\u001b[43mencoding\u001b[49m\u001b[43m,\u001b[49m\n\u001b[0;32m    877\u001b[0m \u001b[43m            \u001b[49m\u001b[43merrors\u001b[49m\u001b[38;5;241;43m=\u001b[39;49m\u001b[43merrors\u001b[49m\u001b[43m,\u001b[49m\n\u001b[0;32m    878\u001b[0m \u001b[43m            \u001b[49m\u001b[43mnewline\u001b[49m\u001b[38;5;241;43m=\u001b[39;49m\u001b[38;5;124;43m\"\u001b[39;49m\u001b[38;5;124;43m\"\u001b[39;49m\u001b[43m,\u001b[49m\n\u001b[0;32m    879\u001b[0m \u001b[43m        \u001b[49m\u001b[43m)\u001b[49m\n\u001b[0;32m    880\u001b[0m     \u001b[38;5;28;01melse\u001b[39;00m:\n\u001b[0;32m    881\u001b[0m         \u001b[38;5;66;03m# Binary mode\u001b[39;00m\n\u001b[0;32m    882\u001b[0m         handle \u001b[38;5;241m=\u001b[39m \u001b[38;5;28mopen\u001b[39m(handle, ioargs\u001b[38;5;241m.\u001b[39mmode)\n",
      "\u001b[1;31mFileNotFoundError\u001b[0m: [Errno 2] No such file or directory: '../../static/CSV/1973_74/pergame_1973_74.csv'"
     ]
    }
   ],
   "source": [
    "engine = sqlalchemy.create_engine(\"sqlite:///../../DB/ballbase.db\") \n",
    "def clean_player(name): \n",
    "    i = name.find('*')   \n",
    "    name = name[:i] if i > -1 else name \n",
    "    return name \n",
    "for season in seasons:\n",
    "    dir = f\"../../static/CSV/{season}/\" \n",
    "\n",
    "    names = ['pergame_'+season, 'advanced_'+season, 'per100_'+season, 'playbyplay_'+season, 'totals_'+season]  \n",
    "    dfs = {} \n",
    "\n",
    "    invalid = ['-9999', 'Unnamed', 'Rk', 'Player-additional']\n",
    "\n",
    "    for name in names:\n",
    "        dfs[name] = pd.read_csv(dir+name+'.csv') \n",
    "        for inv in invalid:\n",
    "            for col in dfs[name].columns:\n",
    "                if inv in col or col in invalid:\n",
    "\n",
    "                    dfs[name] = dfs[name].drop([col], axis=1)\n",
    "                    \n",
    "    dfs['totals_'+season] = dfs['totals_'+season].loc[:,['PTS', 'TRB', 'AST', 'STL', 'BLK', 'TOV', 'PF', 'MP', 'FG', 'FGA', '3PA', '2P', '2PA', 'FT', 'FTA', 'ORB', 'DRB']] \n",
    "    dfs['totals_'+season].columns = 'T' + dfs['totals_'+season].columns \n",
    "    dfs['totals_'+season]['Player'] =  dfs['pergame_'+season]['Player']\n",
    "\n",
    "    def combine_dfs(dfs, names):\n",
    "        curr = None\n",
    "        for name in names:\n",
    "            if curr is None: \n",
    "                curr = dfs[name]\n",
    "            else:\n",
    "                diff = dfs[name].columns.difference(curr.columns).tolist()\n",
    "                diff.append('Player') \n",
    "                curr = pd.merge(curr, dfs[name].loc[:,diff], on = 'Player') \n",
    "        return curr     \n",
    "\n",
    "    master = combine_dfs(dfs, names) \n",
    "    master['Player'] = master['Player'].apply(lambda x: clean_player(x)) \n",
    "\n",
    "    for name in names: \n",
    "        name_temp = name \n",
    "        if name == 'pergame_'+season: \n",
    "            name_temp = 'averages_'+season \n",
    "        dfs[name]['Player'] = dfs[name]['Player'].apply(lambda x: clean_player(x))\n",
    "        dfs[name].to_sql(name_temp, con = engine, if_exists = 'replace', index = False)  \n",
    "        \n",
    "    master.to_sql('master_'+season, con=engine, if_exists='replace', index=False) \n",
    "     "
   ]
  },
  {
   "cell_type": "markdown",
   "metadata": {},
   "source": [
    "# Output Tables (Multiple Seasons) "
   ]
  },
  {
   "cell_type": "code",
   "execution_count": 8,
   "metadata": {},
   "outputs": [],
   "source": [
    "engine = sqlalchemy.create_engine(\"sqlite:///../../DB/ballbase.db\") \n",
    "for season in seasons:\n",
    "    \n",
    "    master = pd.read_sql(\"master_\"+season, con=engine).fillna(0).drop(\"Tm\", axis=1)\n",
    "    master.columns \n",
    "    averages = master[['Player', 'Pos', 'Age', 'PTS', 'TRB', 'AST', 'STL', 'BLK', 'TOV', 'MP', 'FGA', 'FG%', '3PA', '3P%', 'FTA', 'FT%', 'PF']] \n",
    "    totals = master.loc[:, ['Player', 'TPTS', 'TSTL',\n",
    "        'TTOV', 'TTRB', 'T2P', 'T2PA', 'T3PA', 'TAST', 'TBLK', 'TDRB',\n",
    "        'TFG', 'TFGA', 'TFT', 'TFTA', 'TMP', 'TORB', 'TPF']]\n",
    "    advanced = master.loc[:, ['Player', 'DRtg', 'ORtg',\n",
    "        '3PAr', 'AST%', 'BLK%', 'BPM', 'DBPM', 'DRB%', 'DWS', 'FTr', 'OBPM',\n",
    "        'ORB%', 'OWS', 'PER', 'STL%', 'TOV%', 'TRB%', 'TS%', 'USG%', 'VORP',\n",
    "        'WS', 'WS/48']] \n",
    "\n",
    "\n",
    "    contents = [averages, totals, advanced] \n",
    "    # Create HTML table version \n",
    "    for i in range(len(contents)):\n",
    "        contents[i] = contents[i].to_html(table_id=\"table\", classes = \"table table-hover table-stripped table-bordered table-striped\", border=1, index=False)\n",
    "        contents[i] = contents[i].replace('<table border=\"1\" class=\"dataframe table table-hover table-stripped table-bordered table-striped\" id=\"table\">', '<table border=\"1\" class=\"dataframe table table-hover table-stripped table-bordered\" style=\"width:100%\" id=\"table\">')\n",
    "    # Create page content \n",
    "    for i in range(len(contents)):\n",
    "        contents[i] = f\"\"\"\n",
    "{{%extends 'TableBase.html'%}}\n",
    "{{% block table %}} \n",
    "\n",
    "{contents[i]}\n",
    "{{% endblock %}}\n",
    "\"\"\"\n",
    "    def write_to_file(path, content): \n",
    "        file = open(path, \"w\", encoding=\"utf-8\") \n",
    "        file.write(content) \n",
    "        file.close \n",
    "\n",
    "\n",
    "    file_names=[f\"Averages_{season}.html\", f\"Totals_{season}.html\", f\"Advanced_{season}.html\"] \n",
    "\n",
    "    for i in range(len(contents)): \n",
    "        path = f\"../../templates/Tables/{file_names[i]}\" \n",
    "        write_to_file(path, contents[i]) "
   ]
  },
  {
   "cell_type": "markdown",
   "metadata": {},
   "source": [
    "# Output Season Buttons "
   ]
  },
  {
   "cell_type": "code",
   "execution_count": 5,
   "metadata": {},
   "outputs": [
    {
     "name": "stdout",
     "output_type": "stream",
     "text": [
      "<button onclick=\"seasonSelect('2023_24')\" class=\"dropdown-button\"> 2023-24 </button>\n",
      "<button onclick=\"seasonSelect('2022_23')\" class=\"dropdown-button\"> 2022-23 </button>\n",
      "<button onclick=\"seasonSelect('2021_22')\" class=\"dropdown-button\"> 2021-22 </button>\n",
      "<button onclick=\"seasonSelect('2020_21')\" class=\"dropdown-button\"> 2020-21 </button>\n",
      "<button onclick=\"seasonSelect('2019_20')\" class=\"dropdown-button\"> 2019-20 </button>\n",
      "<button onclick=\"seasonSelect('2018_19')\" class=\"dropdown-button\"> 2018-19 </button>\n",
      "<button onclick=\"seasonSelect('2017_18')\" class=\"dropdown-button\"> 2017-18 </button>\n",
      "<button onclick=\"seasonSelect('2016_17')\" class=\"dropdown-button\"> 2016-17 </button>\n",
      "<button onclick=\"seasonSelect('2015_16')\" class=\"dropdown-button\"> 2015-16 </button>\n",
      "<button onclick=\"seasonSelect('2014_15')\" class=\"dropdown-button\"> 2014-15 </button>\n",
      "<button onclick=\"seasonSelect('2013_14')\" class=\"dropdown-button\"> 2013-14 </button>\n",
      "<button onclick=\"seasonSelect('2012_13')\" class=\"dropdown-button\"> 2012-13 </button>\n",
      "<button onclick=\"seasonSelect('2011_12')\" class=\"dropdown-button\"> 2011-12 </button>\n",
      "<button onclick=\"seasonSelect('2010_11')\" class=\"dropdown-button\"> 2010-11 </button>\n",
      "<button onclick=\"seasonSelect('2009_10')\" class=\"dropdown-button\"> 2009-10 </button>\n",
      "<button onclick=\"seasonSelect('2008_09')\" class=\"dropdown-button\"> 2008-09 </button>\n",
      "<button onclick=\"seasonSelect('2007_08')\" class=\"dropdown-button\"> 2007-08 </button>\n",
      "<button onclick=\"seasonSelect('2006_07')\" class=\"dropdown-button\"> 2006-07 </button>\n",
      "<button onclick=\"seasonSelect('2005_06')\" class=\"dropdown-button\"> 2005-06 </button>\n",
      "<button onclick=\"seasonSelect('2004_05')\" class=\"dropdown-button\"> 2004-05 </button>\n",
      "<button onclick=\"seasonSelect('2003_04')\" class=\"dropdown-button\"> 2003-04 </button>\n",
      "<button onclick=\"seasonSelect('2002_03')\" class=\"dropdown-button\"> 2002-03 </button>\n",
      "<button onclick=\"seasonSelect('2001_02')\" class=\"dropdown-button\"> 2001-02 </button>\n",
      "<button onclick=\"seasonSelect('2000_01')\" class=\"dropdown-button\"> 2000-01 </button>\n",
      "<button onclick=\"seasonSelect('1999_00')\" class=\"dropdown-button\"> 1999-00 </button>\n",
      "<button onclick=\"seasonSelect('1998_99')\" class=\"dropdown-button\"> 1998-99 </button>\n",
      "<button onclick=\"seasonSelect('1997_98')\" class=\"dropdown-button\"> 1997-98 </button>\n",
      "<button onclick=\"seasonSelect('1996_97')\" class=\"dropdown-button\"> 1996-97 </button>\n",
      "<button onclick=\"seasonSelect('1995_96')\" class=\"dropdown-button\"> 1995-96 </button>\n",
      "<button onclick=\"seasonSelect('1994_95')\" class=\"dropdown-button\"> 1994-95 </button>\n",
      "<button onclick=\"seasonSelect('1993_94')\" class=\"dropdown-button\"> 1993-94 </button>\n",
      "<button onclick=\"seasonSelect('1992_93')\" class=\"dropdown-button\"> 1992-93 </button>\n",
      "<button onclick=\"seasonSelect('1991_92')\" class=\"dropdown-button\"> 1991-92 </button>\n",
      "<button onclick=\"seasonSelect('1990_91')\" class=\"dropdown-button\"> 1990-91 </button>\n",
      "<button onclick=\"seasonSelect('1989_90')\" class=\"dropdown-button\"> 1989-90 </button>\n",
      "<button onclick=\"seasonSelect('1988_89')\" class=\"dropdown-button\"> 1988-89 </button>\n",
      "<button onclick=\"seasonSelect('1987_88')\" class=\"dropdown-button\"> 1987-88 </button>\n",
      "<button onclick=\"seasonSelect('1986_87')\" class=\"dropdown-button\"> 1986-87 </button>\n",
      "<button onclick=\"seasonSelect('1985_86')\" class=\"dropdown-button\"> 1985-86 </button>\n",
      "<button onclick=\"seasonSelect('1984_85')\" class=\"dropdown-button\"> 1984-85 </button>\n",
      "<button onclick=\"seasonSelect('1983_84')\" class=\"dropdown-button\"> 1983-84 </button>\n",
      "<button onclick=\"seasonSelect('1982_83')\" class=\"dropdown-button\"> 1982-83 </button>\n",
      "<button onclick=\"seasonSelect('1981_82')\" class=\"dropdown-button\"> 1981-82 </button>\n",
      "<button onclick=\"seasonSelect('1980_81')\" class=\"dropdown-button\"> 1980-81 </button>\n",
      "<button onclick=\"seasonSelect('1979_80')\" class=\"dropdown-button\"> 1979-80 </button>\n",
      "<button onclick=\"seasonSelect('1978_79')\" class=\"dropdown-button\"> 1978-79 </button>\n",
      "<button onclick=\"seasonSelect('1977_78')\" class=\"dropdown-button\"> 1977-78 </button>\n",
      "<button onclick=\"seasonSelect('1976_77')\" class=\"dropdown-button\"> 1976-77 </button>\n",
      "<button onclick=\"seasonSelect('1975_76')\" class=\"dropdown-button\"> 1975-76 </button>\n",
      "<button onclick=\"seasonSelect('1974_75')\" class=\"dropdown-button\"> 1974-75 </button>\n",
      "<button onclick=\"seasonSelect('1973_74')\" class=\"dropdown-button\"> 1973-74 </button>\n"
     ]
    }
   ],
   "source": [
    "season_labs = functions.generate_seasons(1973, 2024)  \n",
    "temp = []\n",
    "\n",
    "season_button_content = \"\"\n",
    "for season in season_labs: \n",
    "    ssn_str = season.replace('_', '-') \n",
    "    season_button_content += f'<button onclick=\"seasonSelect(\\'{season}\\')\" class=\"dropdown-button\"> {ssn_str} </button>' + '\\n'  \n",
    "    temp.append(f'<button onclick=\"seasonSelect(\\'{season}\\')\" class=\"dropdown-button\"> {ssn_str} </button>') \n",
    "for i in range(len(temp)-1, -1, -1):\n",
    "    print(temp[i]) \n",
    "# file_b = open(\"../../templates/Other/Season-buttons.html\", \"w\", encoding=\"utf-8\") \n",
    "# file_b.write(season_button_content) \n",
    "# file_b.close()  \n",
    "# print(season_button_content)"
   ]
  }
 ],
 "metadata": {
  "kernelspec": {
   "display_name": "Python 3",
   "language": "python",
   "name": "python3"
  },
  "language_info": {
   "codemirror_mode": {
    "name": "ipython",
    "version": 3
   },
   "file_extension": ".py",
   "mimetype": "text/x-python",
   "name": "python",
   "nbconvert_exporter": "python",
   "pygments_lexer": "ipython3",
   "version": "3.12.5"
  }
 },
 "nbformat": 4,
 "nbformat_minor": 2
}
