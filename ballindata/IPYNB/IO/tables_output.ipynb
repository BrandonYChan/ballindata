{
 "cells": [
  {
   "cell_type": "code",
   "execution_count": 1,
   "metadata": {},
   "outputs": [],
   "source": [
    "import numpy as np, pandas as pd \n",
    "pd.set_option('display.max_columns', None)\n",
    "import sqlite3, sqlalchemy "
   ]
  },
  {
   "cell_type": "code",
   "execution_count": 2,
   "metadata": {},
   "outputs": [
    {
     "data": {
      "text/plain": [
       "Index(['Player', 'Pos', 'Age', 'G', 'GS', 'MP', 'FG', 'FGA', 'FG%', '3P',\n",
       "       '3PA', '3P%', '2P', '2PA', '2P%', 'eFG%', 'FT', 'FTA', 'FT%', 'ORB',\n",
       "       'DRB', 'TRB', 'AST', 'STL', 'BLK', 'TOV', 'PF', 'PTS', '3PAr', 'AST%',\n",
       "       'BLK%', 'BPM', 'DBPM', 'DRB%', 'DWS', 'FTr', 'OBPM', 'ORB%', 'OWS',\n",
       "       'PER', 'STL%', 'TOV%', 'TRB%', 'TS%', 'USG%', 'VORP', 'WS', 'WS/48',\n",
       "       'DRtg', 'ORtg', 'And1', 'BadPass', 'Blkd', 'C%', 'LostBall', 'Off.',\n",
       "       'Off..1', 'On-Off', 'OnCourt', 'PF%', 'PG%', 'PGA', 'SF%', 'SG%',\n",
       "       'Shoot', 'Shoot.1', 'T2P', 'T2PA', 'T3PA', 'TAST', 'TBLK', 'TDRB',\n",
       "       'TFG', 'TFGA', 'TFT', 'TFTA', 'TMP', 'TORB', 'TPF', 'TPTS', 'TSTL',\n",
       "       'TTOV', 'TTRB'],\n",
       "      dtype='object')"
      ]
     },
     "execution_count": 2,
     "metadata": {},
     "output_type": "execute_result"
    }
   ],
   "source": [
    "season = \"2016_17\" \n",
    "engine = sqlalchemy.create_engine(\"sqlite:///../../DB/ballbase.db\") \n",
    "\n",
    "master = pd.read_sql(\"master_\"+season, con=engine).fillna(0).drop(\"Tm\", axis=1)\n",
    "master.columns "
   ]
  },
  {
   "cell_type": "code",
   "execution_count": 3,
   "metadata": {},
   "outputs": [],
   "source": [
    "averages = master[['Player', 'Pos', 'Age', 'PTS', 'TRB', 'AST', 'STL', 'BLK', 'TOV', 'MP', 'FGA', 'FG%', '3PA', '3P%', 'FTA', 'FT%', 'PF']] \n",
    "totals = master.loc[:, ['Player', 'TPTS', 'TSTL',\n",
    "       'TTOV', 'TTRB', 'T2P', 'T2PA', 'T3PA', 'TAST', 'TBLK', 'TDRB',\n",
    "       'TFG', 'TFGA', 'TFT', 'TFTA', 'TMP', 'TORB', 'TPF']]\n",
    "advanced = master.loc[:, ['Player', 'DRtg', 'ORtg',\n",
    "       '3PAr', 'AST%', 'BLK%', 'BPM', 'DBPM', 'DRB%', 'DWS', 'FTr', 'OBPM',\n",
    "       'ORB%', 'OWS', 'PER', 'STL%', 'TOV%', 'TRB%', 'TS%', 'USG%', 'VORP',\n",
    "       'WS', 'WS/48']] \n",
    "\n",
    "\n",
    "contents = [averages, totals, advanced] "
   ]
  },
  {
   "cell_type": "code",
   "execution_count": 4,
   "metadata": {},
   "outputs": [],
   "source": [
    "# Create HTML table version \n",
    "for i in range(len(contents)):\n",
    "    contents[i] = contents[i].to_html(table_id=\"table\", classes = \"table table-hover table-stripped table-bordered table-striped display nowrap\", index=False)\n",
    "\n",
    "# Current Date \n",
    "# from datetime import datetime\n",
    "# curr_date = datetime.today().strftime('%Y-%m-%d %H:%M:%S') \n",
    "# <p style=\"text-align:center;font-size:10px;font-family:calibri;color:black;\">Last Update: {curr_date} ET </p>\n",
    "# Create page content \n",
    "for i in range(len(contents)):\n",
    "    contents[i] = f\"\"\"\n",
    "    {{%extends 'TableBase.html'%}}\n",
    "    {{% block table %}}    \n",
    "    {contents[i]}\n",
    "    {{% endblock %}}\n",
    "\"\"\""
   ]
  },
  {
   "cell_type": "code",
   "execution_count": 5,
   "metadata": {},
   "outputs": [],
   "source": [
    "def write_to_file(path, content): \n",
    "    file = open(path, \"w\", encoding=\"utf-8\") \n",
    "    file.write(content) \n",
    "    file.close \n",
    "\n",
    "\n",
    "file_names=[f\"Averages_{season}.html\", f\"Totals_{season}.html\", f\"Advanced_{season}.html\"] \n",
    "\n",
    "for i in range(len(contents)): \n",
    "    path = f\"../../templates/Tables/{file_names[i]}\" \n",
    "    write_to_file(path, contents[i]) \n",
    "    "
   ]
  }
 ],
 "metadata": {
  "kernelspec": {
   "display_name": "Python 3",
   "language": "python",
   "name": "python3"
  },
  "language_info": {
   "codemirror_mode": {
    "name": "ipython",
    "version": 3
   },
   "file_extension": ".py",
   "mimetype": "text/x-python",
   "name": "python",
   "nbconvert_exporter": "python",
   "pygments_lexer": "ipython3",
   "version": "3.11.9"
  }
 },
 "nbformat": 4,
 "nbformat_minor": 2
}
