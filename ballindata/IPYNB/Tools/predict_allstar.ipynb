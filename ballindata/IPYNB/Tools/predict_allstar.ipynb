{
 "cells": [
  {
   "cell_type": "code",
   "execution_count": 1,
   "metadata": {},
   "outputs": [],
   "source": [
    "import pandas as pd, numpy as np, sklearn as sklm\n",
    "import tensorflow as tf, sqlalchemy \n",
    "from sklearn.linear_model import LogisticRegression, LinearRegression \n",
    "from sklearn.ensemble import RandomForestClassifier \n",
    "from sklearn.model_selection import train_test_split \n",
    "import joblib \n",
    "pd.set_option('display.max_columns', None)\n",
    "import os, sys\n",
    "sys.path.append(os.path.abspath(os.path.join(os.path.dirname('functions.py'), '..', '..', 'PY')))\n",
    "import functions \n",
    "import joblib \n",
    "from keras.models import load_model \n",
    "# np.suppress "
   ]
  },
  {
   "cell_type": "code",
   "execution_count": 2,
   "metadata": {},
   "outputs": [],
   "source": [
    "db_path = 'sqlite:///C:\\\\Users\\\\bchan\\\\OneDrive\\\\Personal Projects\\\\BID_Django\\\\ballindata\\\\DB\\\\ballbase.db' \n",
    "\n",
    "engine = sqlalchemy.create_engine(db_path) \n",
    "seasons = functions.generate_seasons(1979, 2024) \n",
    "master = pd.read_sql('master_as', con=engine) \n",
    "ssn = pd.DataFrame() \n",
    "numeric_df = pd.read_sql('numeric_as', con=engine) \n",
    "\n",
    "X_train, X_test, y_train, y_test = train_test_split(numeric_df[['PPG', 'RPG', 'APG', 'SPG', 'BPG']], numeric_df['AS'], random_state=1, test_size=0.2) \n",
    "\n",
    "numeric_select = numeric_df.loc[:, ['PPG', 'RPG', 'APG', 'SPG', 'BPG']]\n"
   ]
  },
  {
   "cell_type": "markdown",
   "metadata": {},
   "source": [
    "# Neural Network "
   ]
  },
  {
   "cell_type": "code",
   "execution_count": 4,
   "metadata": {},
   "outputs": [],
   "source": [
    "nn_path = \"../../MLModels/as_nn_tool.keras\"\n",
    "\n",
    "if(not(os.path.exists(nn_path))): \n",
    "    numeric_tensor = tf.convert_to_tensor(numeric_df) \n",
    "    normalizer = tf.keras.layers.Normalization(axis=-1) \n",
    "    normalizer.adapt(numeric_tensor) \n",
    "\n",
    "    seq_model = tf.keras.models.Sequential() \n",
    "    # seq_model.add(normalizer) \n",
    "    seq_model.add(tf.keras.layers.Dense(units=10, activation='relu', input_shape=(5, ))) \n",
    "    seq_model.add(tf.keras.layers.Dense(units=10, activation='relu')) \n",
    "    seq_model.add(tf.keras.layers.Dense(units=1, activation='sigmoid')) \n",
    "\n",
    "    seq_model.compile(optimizer='adam', loss='binary_crossentropy', metrics=['accuracy']) \n",
    "\n",
    "    seq_model.fit(x=X_train, y=y_train, epochs=10, batch_size=1) \n",
    "    seq_model.save(nn_path) \n",
    "else:\n",
    "    seq_model = tf.keras.models.load_model(nn_path)"
   ]
  },
  {
   "cell_type": "code",
   "execution_count": 5,
   "metadata": {},
   "outputs": [
    {
     "name": "stdout",
     "output_type": "stream",
     "text": [
      "\u001b[1m1/1\u001b[0m \u001b[32m━━━━━━━━━━━━━━━━━━━━\u001b[0m\u001b[37m\u001b[0m \u001b[1m0s\u001b[0m 268ms/step\n"
     ]
    },
    {
     "data": {
      "text/plain": [
       "0.34940857"
      ]
     },
     "execution_count": 5,
     "metadata": {},
     "output_type": "execute_result"
    }
   ],
   "source": [
    "seq_model.predict(tf.convert_to_tensor([[25,6,1, 1, 0]]))[0][0] "
   ]
  },
  {
   "cell_type": "markdown",
   "metadata": {},
   "source": [
    "# Logistic Regression"
   ]
  },
  {
   "cell_type": "code",
   "execution_count": 3,
   "metadata": {},
   "outputs": [
    {
     "name": "stderr",
     "output_type": "stream",
     "text": [
      "c:\\Users\\bchan\\AppData\\Local\\Programs\\Python\\Python312\\Lib\\site-packages\\sklearn\\base.py:376: InconsistentVersionWarning: Trying to unpickle estimator LogisticRegression from version 1.5.1 when using version 1.5.2. This might lead to breaking code or invalid results. Use at your own risk. For more info please refer to:\n",
      "https://scikit-learn.org/stable/model_persistence.html#security-maintainability-limitations\n",
      "  warnings.warn(\n"
     ]
    },
    {
     "data": {
      "text/plain": [
       "['../../MLModels/as_lr_tool.pkl']"
      ]
     },
     "execution_count": 3,
     "metadata": {},
     "output_type": "execute_result"
    }
   ],
   "source": [
    "lr_path = \"../../MLModels/as_lr_tool.pkl\"\n",
    "\n",
    "if(os.path.exists(lr_path)):\n",
    "    lr_as = joblib.load(lr_path) \n",
    "else:\n",
    "    lr_as = LogisticRegression() \n",
    "    lr_as.fit(X=numeric_select, y=numeric_df['AS']) \n",
    "    joblib.dump(lr_as, lr_path) \n",
    "\n",
    "lr_as = LogisticRegression() \n",
    "lr_as.fit(X=numeric_select, y=numeric_df['AS']) \n",
    "joblib.dump(lr_as, lr_path) "
   ]
  },
  {
   "cell_type": "code",
   "execution_count": 4,
   "metadata": {},
   "outputs": [
    {
     "data": {
      "text/plain": [
       "1.0"
      ]
     },
     "execution_count": 4,
     "metadata": {},
     "output_type": "execute_result"
    }
   ],
   "source": [
    "lr_as.predict([[20, 10, 6, 0, 0.5]])[0] "
   ]
  },
  {
   "cell_type": "markdown",
   "metadata": {},
   "source": [
    "# Random Forest "
   ]
  },
  {
   "cell_type": "code",
   "execution_count": 5,
   "metadata": {},
   "outputs": [
    {
     "name": "stderr",
     "output_type": "stream",
     "text": [
      "c:\\Users\\bchan\\AppData\\Local\\Programs\\Python\\Python312\\Lib\\site-packages\\sklearn\\base.py:376: InconsistentVersionWarning: Trying to unpickle estimator DecisionTreeClassifier from version 1.5.1 when using version 1.5.2. This might lead to breaking code or invalid results. Use at your own risk. For more info please refer to:\n",
      "https://scikit-learn.org/stable/model_persistence.html#security-maintainability-limitations\n",
      "  warnings.warn(\n",
      "c:\\Users\\bchan\\AppData\\Local\\Programs\\Python\\Python312\\Lib\\site-packages\\sklearn\\base.py:376: InconsistentVersionWarning: Trying to unpickle estimator RandomForestClassifier from version 1.5.1 when using version 1.5.2. This might lead to breaking code or invalid results. Use at your own risk. For more info please refer to:\n",
      "https://scikit-learn.org/stable/model_persistence.html#security-maintainability-limitations\n",
      "  warnings.warn(\n"
     ]
    },
    {
     "data": {
      "text/plain": [
       "['../../MLModels/as_rf_tool.pkl']"
      ]
     },
     "execution_count": 5,
     "metadata": {},
     "output_type": "execute_result"
    }
   ],
   "source": [
    "rf_path = \"../../MLModels/as_rf_tool.pkl\"\n",
    "\n",
    "if(os.path.exists(rf_path)): \n",
    "    rf_as = joblib.load(rf_path) \n",
    "else: \n",
    "    rf_as = sklm.ensemble.RandomForestClassifier()  \n",
    "    rf_as.fit(X=numeric_select, y=numeric_df['AS'])\n",
    "    joblib.dump(rf_as, rf_path)\n",
    "\n",
    "rf_as = sklm.ensemble.RandomForestClassifier()  \n",
    "rf_as.fit(X=numeric_select, y=numeric_df['AS'])\n",
    "joblib.dump(rf_as, rf_path)"
   ]
  },
  {
   "cell_type": "code",
   "execution_count": 7,
   "metadata": {},
   "outputs": [
    {
     "data": {
      "text/plain": [
       "array([0.65, 0.35])"
      ]
     },
     "execution_count": 7,
     "metadata": {},
     "output_type": "execute_result"
    }
   ],
   "source": [
    "rf_as.predict_proba([[20, 10, 5, 1, 0]])[0] "
   ]
  },
  {
   "cell_type": "markdown",
   "metadata": {},
   "source": [
    "# Large Models "
   ]
  },
  {
   "cell_type": "code",
   "execution_count": null,
   "metadata": {},
   "outputs": [
    {
     "name": "stdout",
     "output_type": "stream",
     "text": [
      "\u001b[1m1/1\u001b[0m \u001b[32m━━━━━━━━━━━━━━━━━━━━\u001b[0m\u001b[37m\u001b[0m \u001b[1m0s\u001b[0m 76ms/step\n",
      "1.0 1.0 0.936040997505188\n"
     ]
    },
    {
     "data": {
      "text/plain": [
       "True"
      ]
     },
     "execution_count": 71,
     "metadata": {},
     "output_type": "execute_result"
    }
   ],
   "source": [
    "models = {\n",
    "    'logistic_regression': joblib.load(\"C:\\\\Users\\\\bchan\\OneDrive\\Personal Projects\\BID_Django\\\\ballindata\\IPYNB\\Analyses\\lr_model.pkl\"), \n",
    "    'random_forest': joblib.load(\"C:\\\\Users\\\\bchan\\OneDrive\\Personal Projects\\BID_Django\\\\ballindata\\IPYNB\\Analyses\\\\rf_model.pkl\") \n",
    "} \n",
    "lr = joblib.load(\"C:\\\\Users\\\\bchan\\OneDrive\\Personal Projects\\BID_Django\\\\ballindata\\IPYNB\\Analyses\\lr_model.pkl\") \n",
    "rf = joblib.load(\"C:\\\\Users\\\\bchan\\OneDrive\\Personal Projects\\BID_Django\\\\ballindata\\IPYNB\\Analyses\\\\rf_model.pkl\") \n",
    "nn = load_model(\"C:\\\\Users\\\\bchan\\OneDrive\\Personal Projects\\BID_Django\\\\ballindata\\IPYNB\\Analyses\\seq_model.keras\") \n",
    "\n",
    "example = [numeric_df.iloc[18033].drop('AS').tolist()] \n",
    "pred_lr = lr.predict(example)[0] \n",
    "pred_rf = rf.predict(example)[0] \n",
    "pred_nn= nn.predict(tf.convert_to_tensor(example))[0][0].astype('float64')\n",
    "\n",
    "print(f\"{pred_lr} {pred_rf} {pred_nn}\")\n",
    "pred_lr == pred_rf "
   ]
  },
  {
   "cell_type": "markdown",
   "metadata": {},
   "source": [
    "# Upload to Database "
   ]
  },
  {
   "cell_type": "code",
   "execution_count": 10,
   "metadata": {},
   "outputs": [
    {
     "data": {
      "text/plain": [
       "['Age',\n",
       " 'GP',\n",
       " 'MPG',\n",
       " 'FG',\n",
       " 'FGA',\n",
       " 'FG%',\n",
       " '3P',\n",
       " '3PA',\n",
       " '3P%',\n",
       " '2P',\n",
       " '2PA',\n",
       " '2P%',\n",
       " 'eFG%',\n",
       " 'FT',\n",
       " 'FTA',\n",
       " 'FT%',\n",
       " 'ORPG',\n",
       " 'DRPG',\n",
       " 'RPG',\n",
       " 'APG',\n",
       " 'SPG',\n",
       " 'BPG',\n",
       " 'ToPG',\n",
       " 'PF',\n",
       " 'PPG',\n",
       " 'T2P',\n",
       " 'T2PA',\n",
       " 'T3P',\n",
       " 'T3PA',\n",
       " 'TAST',\n",
       " 'TBLK',\n",
       " 'TDRB',\n",
       " 'TFG',\n",
       " 'TFGA',\n",
       " 'TFT',\n",
       " 'TFTA',\n",
       " 'TMP',\n",
       " 'TORB',\n",
       " 'TPF',\n",
       " 'TPTS',\n",
       " 'TSTL',\n",
       " 'TTOV',\n",
       " 'TTRB',\n",
       " 'DRtg',\n",
       " 'ORtg',\n",
       " '3PAr',\n",
       " 'AST%',\n",
       " 'BLK%',\n",
       " 'BPM',\n",
       " 'DBPM',\n",
       " 'DRB%',\n",
       " 'DWS',\n",
       " 'FTr',\n",
       " 'OBPM',\n",
       " 'ORB%',\n",
       " 'OWS',\n",
       " 'PER',\n",
       " 'STL%',\n",
       " 'TOV%',\n",
       " 'TRB%',\n",
       " 'TS%',\n",
       " 'USG%',\n",
       " 'VORP',\n",
       " 'WS',\n",
       " 'WS/48']"
      ]
     },
     "execution_count": 10,
     "metadata": {},
     "output_type": "execute_result"
    }
   ],
   "source": [
    "stat_names = numeric_df.columns.drop('AS').tolist()\n",
    "stat_names "
   ]
  },
  {
   "cell_type": "code",
   "execution_count": 17,
   "metadata": {},
   "outputs": [
    {
     "name": "stdout",
     "output_type": "stream",
     "text": [
      "<div class=\"input-row\">\n",
      "<label for=\"Age\" class=\"input-label\"> Age: </label><br>\n",
      "    <input type=\"text\" id=Age name=Age class=\"input-text-box\" value=\"\"><br>\n",
      "    <label for=\"GP\" class=\"input-label\"> GP: </label><br>\n",
      "    <input type=\"text\" id=GP name=GP class=\"input-text-box\" value=\"\"><br>\n",
      "    <label for=\"MPG\" class=\"input-label\"> MPG: </label><br>\n",
      "    <input type=\"text\" id=MPG name=MPG class=\"input-text-box\" value=\"\"><br>\n",
      "    <label for=\"FG\" class=\"input-label\"> FG: </label><br>\n",
      "    <input type=\"text\" id=FG name=FG class=\"input-text-box\" value=\"\"><br>\n",
      "    \n",
      "</div> \n",
      "<br> \n",
      "<div class=\"input-row\"> <label for=\"FGA\" class=\"input-label\"> FGA: </label><br>\n",
      "    <input type=\"text\" id=FGA name=FGA class=\"input-text-box\" value=\"\"><br>\n",
      "    <label for=\"FG%\" class=\"input-label\"> FG%: </label><br>\n",
      "    <input type=\"text\" id=FG% name=FG% class=\"input-text-box\" value=\"\"><br>\n",
      "    <label for=\"3P\" class=\"input-label\"> 3P: </label><br>\n",
      "    <input type=\"text\" id=3P name=3P class=\"input-text-box\" value=\"\"><br>\n",
      "    <label for=\"3PA\" class=\"input-label\"> 3PA: </label><br>\n",
      "    <input type=\"text\" id=3PA name=3PA class=\"input-text-box\" value=\"\"><br>\n",
      "    \n",
      "</div> \n",
      "<br> \n",
      "<div class=\"input-row\"> <label for=\"3P%\" class=\"input-label\"> 3P%: </label><br>\n",
      "    <input type=\"text\" id=3P% name=3P% class=\"input-text-box\" value=\"\"><br>\n",
      "    <label for=\"2P\" class=\"input-label\"> 2P: </label><br>\n",
      "    <input type=\"text\" id=2P name=2P class=\"input-text-box\" value=\"\"><br>\n",
      "    <label for=\"2PA\" class=\"input-label\"> 2PA: </label><br>\n",
      "    <input type=\"text\" id=2PA name=2PA class=\"input-text-box\" value=\"\"><br>\n",
      "    <label for=\"2P%\" class=\"input-label\"> 2P%: </label><br>\n",
      "    <input type=\"text\" id=2P% name=2P% class=\"input-text-box\" value=\"\"><br>\n",
      "    \n",
      "</div> \n",
      "<br> \n",
      "<div class=\"input-row\"> <label for=\"eFG%\" class=\"input-label\"> eFG%: </label><br>\n",
      "    <input type=\"text\" id=eFG% name=eFG% class=\"input-text-box\" value=\"\"><br>\n",
      "    <label for=\"FT\" class=\"input-label\"> FT: </label><br>\n",
      "    <input type=\"text\" id=FT name=FT class=\"input-text-box\" value=\"\"><br>\n",
      "    <label for=\"FTA\" class=\"input-label\"> FTA: </label><br>\n",
      "    <input type=\"text\" id=FTA name=FTA class=\"input-text-box\" value=\"\"><br>\n",
      "    <label for=\"FT%\" class=\"input-label\"> FT%: </label><br>\n",
      "    <input type=\"text\" id=FT% name=FT% class=\"input-text-box\" value=\"\"><br>\n",
      "    \n",
      "</div> \n",
      "<br> \n",
      "<div class=\"input-row\"> <label for=\"ORPG\" class=\"input-label\"> ORPG: </label><br>\n",
      "    <input type=\"text\" id=ORPG name=ORPG class=\"input-text-box\" value=\"\"><br>\n",
      "    <label for=\"DRPG\" class=\"input-label\"> DRPG: </label><br>\n",
      "    <input type=\"text\" id=DRPG name=DRPG class=\"input-text-box\" value=\"\"><br>\n",
      "    <label for=\"RPG\" class=\"input-label\"> RPG: </label><br>\n",
      "    <input type=\"text\" id=RPG name=RPG class=\"input-text-box\" value=\"\"><br>\n",
      "    <label for=\"APG\" class=\"input-label\"> APG: </label><br>\n",
      "    <input type=\"text\" id=APG name=APG class=\"input-text-box\" value=\"\"><br>\n",
      "    \n",
      "</div> \n",
      "<br> \n",
      "<div class=\"input-row\"> <label for=\"SPG\" class=\"input-label\"> SPG: </label><br>\n",
      "    <input type=\"text\" id=SPG name=SPG class=\"input-text-box\" value=\"\"><br>\n",
      "    <label for=\"BPG\" class=\"input-label\"> BPG: </label><br>\n",
      "    <input type=\"text\" id=BPG name=BPG class=\"input-text-box\" value=\"\"><br>\n",
      "    <label for=\"ToPG\" class=\"input-label\"> ToPG: </label><br>\n",
      "    <input type=\"text\" id=ToPG name=ToPG class=\"input-text-box\" value=\"\"><br>\n",
      "    <label for=\"PF\" class=\"input-label\"> PF: </label><br>\n",
      "    <input type=\"text\" id=PF name=PF class=\"input-text-box\" value=\"\"><br>\n",
      "    \n",
      "</div> \n",
      "<br> \n",
      "<div class=\"input-row\"> <label for=\"PPG\" class=\"input-label\"> PPG: </label><br>\n",
      "    <input type=\"text\" id=PPG name=PPG class=\"input-text-box\" value=\"\"><br>\n",
      "    <label for=\"T2P\" class=\"input-label\"> T2P: </label><br>\n",
      "    <input type=\"text\" id=T2P name=T2P class=\"input-text-box\" value=\"\"><br>\n",
      "    <label for=\"T2PA\" class=\"input-label\"> T2PA: </label><br>\n",
      "    <input type=\"text\" id=T2PA name=T2PA class=\"input-text-box\" value=\"\"><br>\n",
      "    <label for=\"T3P\" class=\"input-label\"> T3P: </label><br>\n",
      "    <input type=\"text\" id=T3P name=T3P class=\"input-text-box\" value=\"\"><br>\n",
      "    \n",
      "</div> \n",
      "<br> \n",
      "<div class=\"input-row\"> <label for=\"T3PA\" class=\"input-label\"> T3PA: </label><br>\n",
      "    <input type=\"text\" id=T3PA name=T3PA class=\"input-text-box\" value=\"\"><br>\n",
      "    <label for=\"TAST\" class=\"input-label\"> TAST: </label><br>\n",
      "    <input type=\"text\" id=TAST name=TAST class=\"input-text-box\" value=\"\"><br>\n",
      "    <label for=\"TBLK\" class=\"input-label\"> TBLK: </label><br>\n",
      "    <input type=\"text\" id=TBLK name=TBLK class=\"input-text-box\" value=\"\"><br>\n",
      "    <label for=\"TDRB\" class=\"input-label\"> TDRB: </label><br>\n",
      "    <input type=\"text\" id=TDRB name=TDRB class=\"input-text-box\" value=\"\"><br>\n",
      "    \n",
      "</div> \n",
      "<br> \n",
      "<div class=\"input-row\"> <label for=\"TFG\" class=\"input-label\"> TFG: </label><br>\n",
      "    <input type=\"text\" id=TFG name=TFG class=\"input-text-box\" value=\"\"><br>\n",
      "    <label for=\"TFGA\" class=\"input-label\"> TFGA: </label><br>\n",
      "    <input type=\"text\" id=TFGA name=TFGA class=\"input-text-box\" value=\"\"><br>\n",
      "    <label for=\"TFT\" class=\"input-label\"> TFT: </label><br>\n",
      "    <input type=\"text\" id=TFT name=TFT class=\"input-text-box\" value=\"\"><br>\n",
      "    <label for=\"TFTA\" class=\"input-label\"> TFTA: </label><br>\n",
      "    <input type=\"text\" id=TFTA name=TFTA class=\"input-text-box\" value=\"\"><br>\n",
      "    \n",
      "</div> \n",
      "<br> \n",
      "<div class=\"input-row\"> <label for=\"TMP\" class=\"input-label\"> TMP: </label><br>\n",
      "    <input type=\"text\" id=TMP name=TMP class=\"input-text-box\" value=\"\"><br>\n",
      "    <label for=\"TORB\" class=\"input-label\"> TORB: </label><br>\n",
      "    <input type=\"text\" id=TORB name=TORB class=\"input-text-box\" value=\"\"><br>\n",
      "    <label for=\"TPF\" class=\"input-label\"> TPF: </label><br>\n",
      "    <input type=\"text\" id=TPF name=TPF class=\"input-text-box\" value=\"\"><br>\n",
      "    <label for=\"TPTS\" class=\"input-label\"> TPTS: </label><br>\n",
      "    <input type=\"text\" id=TPTS name=TPTS class=\"input-text-box\" value=\"\"><br>\n",
      "    \n",
      "</div> \n",
      "<br> \n",
      "<div class=\"input-row\"> <label for=\"TSTL\" class=\"input-label\"> TSTL: </label><br>\n",
      "    <input type=\"text\" id=TSTL name=TSTL class=\"input-text-box\" value=\"\"><br>\n",
      "    <label for=\"TTOV\" class=\"input-label\"> TTOV: </label><br>\n",
      "    <input type=\"text\" id=TTOV name=TTOV class=\"input-text-box\" value=\"\"><br>\n",
      "    <label for=\"TTRB\" class=\"input-label\"> TTRB: </label><br>\n",
      "    <input type=\"text\" id=TTRB name=TTRB class=\"input-text-box\" value=\"\"><br>\n",
      "    <label for=\"DRtg\" class=\"input-label\"> DRtg: </label><br>\n",
      "    <input type=\"text\" id=DRtg name=DRtg class=\"input-text-box\" value=\"\"><br>\n",
      "    \n",
      "</div> \n",
      "<br> \n",
      "<div class=\"input-row\"> <label for=\"ORtg\" class=\"input-label\"> ORtg: </label><br>\n",
      "    <input type=\"text\" id=ORtg name=ORtg class=\"input-text-box\" value=\"\"><br>\n",
      "    <label for=\"3PAr\" class=\"input-label\"> 3PAr: </label><br>\n",
      "    <input type=\"text\" id=3PAr name=3PAr class=\"input-text-box\" value=\"\"><br>\n",
      "    <label for=\"AST%\" class=\"input-label\"> AST%: </label><br>\n",
      "    <input type=\"text\" id=AST% name=AST% class=\"input-text-box\" value=\"\"><br>\n",
      "    <label for=\"BLK%\" class=\"input-label\"> BLK%: </label><br>\n",
      "    <input type=\"text\" id=BLK% name=BLK% class=\"input-text-box\" value=\"\"><br>\n",
      "    \n",
      "</div> \n",
      "<br> \n",
      "<div class=\"input-row\"> <label for=\"BPM\" class=\"input-label\"> BPM: </label><br>\n",
      "    <input type=\"text\" id=BPM name=BPM class=\"input-text-box\" value=\"\"><br>\n",
      "    <label for=\"DBPM\" class=\"input-label\"> DBPM: </label><br>\n",
      "    <input type=\"text\" id=DBPM name=DBPM class=\"input-text-box\" value=\"\"><br>\n",
      "    <label for=\"DRB%\" class=\"input-label\"> DRB%: </label><br>\n",
      "    <input type=\"text\" id=DRB% name=DRB% class=\"input-text-box\" value=\"\"><br>\n",
      "    <label for=\"DWS\" class=\"input-label\"> DWS: </label><br>\n",
      "    <input type=\"text\" id=DWS name=DWS class=\"input-text-box\" value=\"\"><br>\n",
      "    \n",
      "</div> \n",
      "<br> \n",
      "<div class=\"input-row\"> <label for=\"FTr\" class=\"input-label\"> FTr: </label><br>\n",
      "    <input type=\"text\" id=FTr name=FTr class=\"input-text-box\" value=\"\"><br>\n",
      "    <label for=\"OBPM\" class=\"input-label\"> OBPM: </label><br>\n",
      "    <input type=\"text\" id=OBPM name=OBPM class=\"input-text-box\" value=\"\"><br>\n",
      "    <label for=\"ORB%\" class=\"input-label\"> ORB%: </label><br>\n",
      "    <input type=\"text\" id=ORB% name=ORB% class=\"input-text-box\" value=\"\"><br>\n",
      "    <label for=\"OWS\" class=\"input-label\"> OWS: </label><br>\n",
      "    <input type=\"text\" id=OWS name=OWS class=\"input-text-box\" value=\"\"><br>\n",
      "    \n",
      "</div> \n",
      "<br> \n",
      "<div class=\"input-row\"> <label for=\"PER\" class=\"input-label\"> PER: </label><br>\n",
      "    <input type=\"text\" id=PER name=PER class=\"input-text-box\" value=\"\"><br>\n",
      "    <label for=\"STL%\" class=\"input-label\"> STL%: </label><br>\n",
      "    <input type=\"text\" id=STL% name=STL% class=\"input-text-box\" value=\"\"><br>\n",
      "    <label for=\"TOV%\" class=\"input-label\"> TOV%: </label><br>\n",
      "    <input type=\"text\" id=TOV% name=TOV% class=\"input-text-box\" value=\"\"><br>\n",
      "    <label for=\"TRB%\" class=\"input-label\"> TRB%: </label><br>\n",
      "    <input type=\"text\" id=TRB% name=TRB% class=\"input-text-box\" value=\"\"><br>\n",
      "    \n",
      "</div> \n",
      "<br> \n",
      "<div class=\"input-row\"> <label for=\"TS%\" class=\"input-label\"> TS%: </label><br>\n",
      "    <input type=\"text\" id=TS% name=TS% class=\"input-text-box\" value=\"\"><br>\n",
      "    <label for=\"USG%\" class=\"input-label\"> USG%: </label><br>\n",
      "    <input type=\"text\" id=USG% name=USG% class=\"input-text-box\" value=\"\"><br>\n",
      "    <label for=\"VORP\" class=\"input-label\"> VORP: </label><br>\n",
      "    <input type=\"text\" id=VORP name=VORP class=\"input-text-box\" value=\"\"><br>\n",
      "    <label for=\"WS\" class=\"input-label\"> WS: </label><br>\n",
      "    <input type=\"text\" id=WS name=WS class=\"input-text-box\" value=\"\"><br>\n",
      "    \n",
      "</div> \n",
      "<br> \n",
      "<div class=\"input-row\"> <label for=\"WS/48\" class=\"input-label\"> WS/48: </label><br>\n",
      "    <input type=\"text\" id=WS/48 name=WS/48 class=\"input-text-box\" value=\"\"><br>\n",
      "    \n",
      "</div>\n"
     ]
    }
   ],
   "source": [
    "output_html = '<div class=\"input-row\">\\n' \n",
    "for i in range(len(stat_names)):\n",
    "    output_html += f'''<label for=\"{stat_names[i]}\" class=\"input-label\"> {stat_names[i]}: </label><br>\n",
    "    <input type=\"text\" id={stat_names[i]} name={stat_names[i]} class=\"input-text-box\" value=\"\"><br>\n",
    "    ''' \n",
    "    if (i+1)%4==0: \n",
    "        output_html += '''\\n</div> \n",
    "<br> \n",
    "<div class=\"input-row\"> ''' \n",
    "output_html += '\\n</div>'\n",
    " \n",
    "print(output_html) "
   ]
  }
 ],
 "metadata": {
  "kernelspec": {
   "display_name": "Python 3",
   "language": "python",
   "name": "python3"
  },
  "language_info": {
   "codemirror_mode": {
    "name": "ipython",
    "version": 3
   },
   "file_extension": ".py",
   "mimetype": "text/x-python",
   "name": "python",
   "nbconvert_exporter": "python",
   "pygments_lexer": "ipython3",
   "version": "3.12.5"
  }
 },
 "nbformat": 4,
 "nbformat_minor": 2
}
