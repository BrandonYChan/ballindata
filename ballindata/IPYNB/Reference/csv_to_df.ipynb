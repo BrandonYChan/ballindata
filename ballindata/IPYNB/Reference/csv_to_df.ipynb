{
 "cells": [
  {
   "cell_type": "code",
   "execution_count": null,
   "metadata": {},
   "outputs": [],
   "source": [
    "import numpy as np, pandas as pd \n",
    "pd.set_option('display.max_columns', None)\n",
    "import sqlite3, sqlalchemy, sys, os  \n",
    "\n",
    "sys.path.append(os.path.abspath(os.path.join(os.path.dirname('functions.py'), '..', '..', 'PY')))\n",
    "import functions  \n",
    "\n",
    "seasons = functions.generate_seasons(1973, 2024)\n",
    "# seasons = functions.generate_seasons(2007, 2024)"
   ]
  },
  {
   "cell_type": "code",
   "execution_count": null,
   "metadata": {},
   "outputs": [],
   "source": [
    "engine = sqlalchemy.create_engine(\"sqlite:///../../DB/ballbase.db\") \n",
    "def clean_player(name): \n",
    "    i = name.find('*')   \n",
    "    name = name[:i] if i > -1 else name \n",
    "    return name \n",
    "for season in seasons:\n",
    "    dir = f\"../../static/CSV/{season}/\" \n",
    "\n",
    "    names = ['pergame_'+season, 'advanced_'+season, 'per100_'+season, 'playbyplay_'+season, 'totals_'+season]  \n",
    "    dfs = {} \n",
    "\n",
    "    invalid = ['-9999', 'Unnamed', 'Rk', 'Player-additional']\n",
    "\n",
    "    for name in names:\n",
    "        dfs[name] = pd.read_csv(dir+name+'.csv') \n",
    "        for inv in invalid:\n",
    "            for col in dfs[name].columns:\n",
    "                if inv in col or col in invalid:\n",
    "\n",
    "                    dfs[name] = dfs[name].drop([col], axis=1)\n",
    "                    \n",
    "    dfs['totals_'+season] = dfs['totals_'+season].loc[:,['PTS', 'TRB', 'AST', 'STL', 'BLK', 'TOV', 'PF', 'MP', 'FG', 'FGA', '3PA', '2P', '2PA', 'FT', 'FTA', 'ORB', 'DRB']] \n",
    "    dfs['totals_'+season].columns = 'T' + dfs['totals_'+season].columns \n",
    "    dfs['totals_'+season]['Player'] =  dfs['pergame_'+season]['Player']\n",
    "\n",
    "    def combine_dfs(dfs, names):\n",
    "        curr = None\n",
    "        for name in names:\n",
    "            if curr is None: \n",
    "                curr = dfs[name]\n",
    "            else:\n",
    "                diff = dfs[name].columns.difference(curr.columns).tolist()\n",
    "                diff.append('Player') \n",
    "                curr = pd.merge(curr, dfs[name].loc[:,diff], on = 'Player') \n",
    "        return curr     \n",
    "\n",
    "    master = combine_dfs(dfs, names) \n",
    "    master['Player'] = master['Player'].apply(lambda x: clean_player(x)) \n",
    "\n",
    "    for name in names: \n",
    "        name_temp = name \n",
    "        if name == 'pergame_'+season: \n",
    "            name_temp = 'averages_'+season \n",
    "        dfs[name]['Player'] = dfs[name]['Player'].apply(lambda x: clean_player(x))\n",
    "        dfs[name].to_sql(name_temp, con = engine, if_exists = 'replace', index = False)  \n",
    "        \n",
    "    master.to_sql('master_'+season, con=engine, if_exists='replace', index=False) \n",
    "     "
   ]
  }
 ],
 "metadata": {
  "language_info": {
   "name": "python"
  }
 },
 "nbformat": 4,
 "nbformat_minor": 2
}
